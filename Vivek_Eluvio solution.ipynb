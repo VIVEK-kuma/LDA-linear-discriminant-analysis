{
 "cells": [
  {
   "cell_type": "code",
   "execution_count": 1,
   "metadata": {},
   "outputs": [],
   "source": [
    "#importing the  useful library"
   ]
  },
  {
   "cell_type": "code",
   "execution_count": 2,
   "metadata": {},
   "outputs": [],
   "source": [
    "import numpy as np\n",
    "import pandas as pd\n",
    "import matplotlib.pyplot as plt\n",
    "%matplotlib inline"
   ]
  },
  {
   "cell_type": "code",
   "execution_count": 3,
   "metadata": {},
   "outputs": [],
   "source": [
    "import seaborn as sns\n",
    "sns.set_style('whitegrid')\n"
   ]
  },
  {
   "cell_type": "code",
   "execution_count": 4,
   "metadata": {},
   "outputs": [],
   "source": [
    "#reading the dataset"
   ]
  },
  {
   "cell_type": "code",
   "execution_count": 5,
   "metadata": {},
   "outputs": [],
   "source": [
    "dataset=pd.read_csv('Eluvio_DS_Challenge.csv')"
   ]
  },
  {
   "cell_type": "code",
   "execution_count": 6,
   "metadata": {},
   "outputs": [
    {
     "data": {
      "text/html": [
       "<div>\n",
       "<style scoped>\n",
       "    .dataframe tbody tr th:only-of-type {\n",
       "        vertical-align: middle;\n",
       "    }\n",
       "\n",
       "    .dataframe tbody tr th {\n",
       "        vertical-align: top;\n",
       "    }\n",
       "\n",
       "    .dataframe thead th {\n",
       "        text-align: right;\n",
       "    }\n",
       "</style>\n",
       "<table border=\"1\" class=\"dataframe\">\n",
       "  <thead>\n",
       "    <tr style=\"text-align: right;\">\n",
       "      <th></th>\n",
       "      <th>time_created</th>\n",
       "      <th>date_created</th>\n",
       "      <th>up_votes</th>\n",
       "      <th>down_votes</th>\n",
       "      <th>title</th>\n",
       "      <th>over_18</th>\n",
       "      <th>author</th>\n",
       "      <th>category</th>\n",
       "    </tr>\n",
       "  </thead>\n",
       "  <tbody>\n",
       "    <tr>\n",
       "      <th>0</th>\n",
       "      <td>1201232046</td>\n",
       "      <td>2008-01-25</td>\n",
       "      <td>3</td>\n",
       "      <td>0</td>\n",
       "      <td>Scores killed in Pakistan clashes</td>\n",
       "      <td>False</td>\n",
       "      <td>polar</td>\n",
       "      <td>worldnews</td>\n",
       "    </tr>\n",
       "    <tr>\n",
       "      <th>1</th>\n",
       "      <td>1201232075</td>\n",
       "      <td>2008-01-25</td>\n",
       "      <td>2</td>\n",
       "      <td>0</td>\n",
       "      <td>Japan resumes refuelling mission</td>\n",
       "      <td>False</td>\n",
       "      <td>polar</td>\n",
       "      <td>worldnews</td>\n",
       "    </tr>\n",
       "    <tr>\n",
       "      <th>2</th>\n",
       "      <td>1201232523</td>\n",
       "      <td>2008-01-25</td>\n",
       "      <td>3</td>\n",
       "      <td>0</td>\n",
       "      <td>US presses Egypt on Gaza border</td>\n",
       "      <td>False</td>\n",
       "      <td>polar</td>\n",
       "      <td>worldnews</td>\n",
       "    </tr>\n",
       "    <tr>\n",
       "      <th>3</th>\n",
       "      <td>1201233290</td>\n",
       "      <td>2008-01-25</td>\n",
       "      <td>1</td>\n",
       "      <td>0</td>\n",
       "      <td>Jump-start economy: Give health care to all</td>\n",
       "      <td>False</td>\n",
       "      <td>fadi420</td>\n",
       "      <td>worldnews</td>\n",
       "    </tr>\n",
       "    <tr>\n",
       "      <th>4</th>\n",
       "      <td>1201274720</td>\n",
       "      <td>2008-01-25</td>\n",
       "      <td>4</td>\n",
       "      <td>0</td>\n",
       "      <td>Council of Europe bashes EU&amp;UN terror blacklist</td>\n",
       "      <td>False</td>\n",
       "      <td>mhermans</td>\n",
       "      <td>worldnews</td>\n",
       "    </tr>\n",
       "  </tbody>\n",
       "</table>\n",
       "</div>"
      ],
      "text/plain": [
       "   time_created date_created  up_votes  down_votes  \\\n",
       "0    1201232046   2008-01-25         3           0   \n",
       "1    1201232075   2008-01-25         2           0   \n",
       "2    1201232523   2008-01-25         3           0   \n",
       "3    1201233290   2008-01-25         1           0   \n",
       "4    1201274720   2008-01-25         4           0   \n",
       "\n",
       "                                             title  over_18    author  \\\n",
       "0                Scores killed in Pakistan clashes    False     polar   \n",
       "1                 Japan resumes refuelling mission    False     polar   \n",
       "2                  US presses Egypt on Gaza border    False     polar   \n",
       "3     Jump-start economy: Give health care to all     False   fadi420   \n",
       "4  Council of Europe bashes EU&UN terror blacklist    False  mhermans   \n",
       "\n",
       "    category  \n",
       "0  worldnews  \n",
       "1  worldnews  \n",
       "2  worldnews  \n",
       "3  worldnews  \n",
       "4  worldnews  "
      ]
     },
     "execution_count": 6,
     "metadata": {},
     "output_type": "execute_result"
    }
   ],
   "source": [
    "dataset.head()"
   ]
  },
  {
   "cell_type": "code",
   "execution_count": 7,
   "metadata": {},
   "outputs": [
    {
     "name": "stdout",
     "output_type": "stream",
     "text": [
      "<class 'pandas.core.frame.DataFrame'>\n",
      "RangeIndex: 509236 entries, 0 to 509235\n",
      "Data columns (total 8 columns):\n",
      " #   Column        Non-Null Count   Dtype \n",
      "---  ------        --------------   ----- \n",
      " 0   time_created  509236 non-null  int64 \n",
      " 1   date_created  509236 non-null  object\n",
      " 2   up_votes      509236 non-null  int64 \n",
      " 3   down_votes    509236 non-null  int64 \n",
      " 4   title         509236 non-null  object\n",
      " 5   over_18       509236 non-null  bool  \n",
      " 6   author        509236 non-null  object\n",
      " 7   category      509236 non-null  object\n",
      "dtypes: bool(1), int64(3), object(4)\n",
      "memory usage: 27.7+ MB\n"
     ]
    }
   ],
   "source": [
    "#collecting the relevant information from the data\n",
    "dataset.info()"
   ]
  },
  {
   "cell_type": "code",
   "execution_count": 8,
   "metadata": {},
   "outputs": [],
   "source": [
    "#checking if any column has same data or nor throughout the dataset"
   ]
  },
  {
   "cell_type": "code",
   "execution_count": 9,
   "metadata": {},
   "outputs": [
    {
     "name": "stdout",
     "output_type": "stream",
     "text": [
      "0    509236\n",
      "Name: down_votes, dtype: int64\n",
      "False    508916\n",
      "True        320\n",
      "Name: over_18, dtype: int64\n",
      "davidreiss666     8897\n",
      "anutensil         5730\n",
      "DoremusJessup     5037\n",
      "maxwellhill       4023\n",
      "igeldard          4013\n",
      "                  ... \n",
      "esgendeng            1\n",
      "RoadBikeDalek        1\n",
      "WinningAllYear       1\n",
      "Gremanrailyway       1\n",
      "moridin007           1\n",
      "Name: author, Length: 85838, dtype: int64\n",
      "worldnews    509236\n",
      "Name: category, dtype: int64\n"
     ]
    }
   ],
   "source": [
    "#priting the no of different types of values in a column\n",
    "print(dataset['down_votes'].value_counts())\n",
    "print(dataset['over_18'].value_counts())\n",
    "print(dataset['author'].value_counts())\n",
    "print(dataset['category'].value_counts())"
   ]
  },
  {
   "cell_type": "code",
   "execution_count": 10,
   "metadata": {},
   "outputs": [],
   "source": [
    "#dropping the category and downvotes as they have same value throughout the dataset.\n",
    "dataset.drop(columns=[\"down_votes\",\"category\"], axis = 1, inplace = True)"
   ]
  },
  {
   "cell_type": "code",
   "execution_count": 11,
   "metadata": {},
   "outputs": [],
   "source": [
    "dataset['time_created'] = pd.to_datetime(dataset['time_created'], unit='s')\n",
    "dataset['date_created'] = pd.to_datetime(dataset['date_created'])\n",
    "dataset['day'] = dataset['date_created'].dt.day_name()\n",
    "dataset['year'] = dataset['date_created'].dt.year\n",
    "dataset['month'] = dataset['date_created'].dt.month"
   ]
  },
  {
   "cell_type": "code",
   "execution_count": 12,
   "metadata": {},
   "outputs": [
    {
     "data": {
      "text/plain": [
       "Text(0.5, 1.0, 'Num of news vs Day of Week')"
      ]
     },
     "execution_count": 12,
     "metadata": {},
     "output_type": "execute_result"
    },
    {
     "data": {
      "image/png": "[encoded data removed]",
      "text/plain": [
       "<Figure size 1080x288 with 2 Axes>"
      ]
     },
     "metadata": {},
     "output_type": "display_data"
    }
   ],
   "source": [
    "f, ax = plt.subplots(1, 2, figsize=(15, 4))\n",
    "g=sns.countplot(x='year',data=dataset,ax=ax[0])\n",
    "g.set_title('Num of news vs Year')\n",
    "g=sns.countplot(x='day',data=dataset,ax=ax[1])\n",
    "g.set_title('Num of news vs Day of Week')"
   ]
  },
  {
   "cell_type": "code",
   "execution_count": 13,
   "metadata": {},
   "outputs": [
    {
     "data": {
      "text/plain": [
       "Text(0.5, 1.0, 'Average up_votes vs Day of Week')"
      ]
     },
     "execution_count": 13,
     "metadata": {},
     "output_type": "execute_result"
    },
    {
     "data": {
      "image/png": "[encoded data removed]",
      "text/plain": [
       "<Figure size 1080x288 with 2 Axes>"
      ]
     },
     "metadata": {},
     "output_type": "display_data"
    }
   ],
   "source": [
    "f, ax = plt.subplots(1, 2, figsize=(15, 4))\n",
    "set1 = dataset.groupby('year').mean()['up_votes'].reset_index(name='avg_upvotes')\n",
    "g = sns.barplot(x='year',y='avg_upvotes',data=set1, ax=ax[0])\n",
    "g.set_title('Average up_votes vs Year')\n",
    "set2 = dataset.groupby('day').mean()['up_votes'].reset_index(name='avg_upvotes')\n",
    "g = sns.barplot(x='day',y='avg_upvotes',data=set2, ax=ax[1])\n",
    "g.set_title(\"Average up_votes vs Day of Week\")"
   ]
  },
  {
   "cell_type": "code",
   "execution_count": 14,
   "metadata": {},
   "outputs": [],
   "source": [
    "#text preprocess \n",
    "#1.removing the punctuations\n",
    "#2.tekenization\n",
    "#3.lemmatization and stemming"
   ]
  },
  {
   "cell_type": "code",
   "execution_count": 15,
   "metadata": {},
   "outputs": [],
   "source": [
    "#importing the regular expression library to remove punctuations and below we are defining a function to remove punctuation by using python\n",
    "import re\n",
    "\n",
    "def clean_document(document):\n",
    "    \"\"\"Cleaning the  document by removing unnecessary punctuation.It removes\n",
    "    any extra periods and merges acronyms to prevent the tokenizer from\n",
    "    splitting a false sentence\n",
    "    \"\"\"\n",
    "    document = re.sub('[^A-Za-z0-9 \\']', '', document)\n",
    "    document = re.sub(\"\\'s\", \"\", document)\n",
    "    document = document.replace(\"New York Times\", \"NewYorkTimes\")\n",
    "    document = document.replace('U of', 'University of')\n",
    "    document = document.replace('U S', 'US').replace('U N', 'UN')\n",
    "    \n",
    "    # Remove extra whitespace\n",
    "    document = ' '.join(document.split())\n",
    "    return document"
   ]
  },
  {
   "cell_type": "code",
   "execution_count": null,
   "metadata": {},
   "outputs": [],
   "source": []
  },
  {
   "cell_type": "code",
   "execution_count": 16,
   "metadata": {},
   "outputs": [],
   "source": [
    "#here we are applying the clean document function to the topic of the dataset so that we can catch the unique word from the topic\n",
    "docs = [clean_document(doc) for doc in dataset['title']]"
   ]
  },
  {
   "cell_type": "code",
   "execution_count": 17,
   "metadata": {},
   "outputs": [
    {
     "name": "stdout",
     "output_type": "stream",
     "text": [
      "0                         Scores killed in Pakistan clashes\n",
      "1                          Japan resumes refuelling mission\n",
      "2                           US presses Egypt on Gaza border\n",
      "3              Jump-start economy: Give health care to all \n",
      "4           Council of Europe bashes EU&UN terror blacklist\n",
      "                                ...                        \n",
      "509231     Heil Trump : Donald Trump s  alt-right  white...\n",
      "509232    There are people speculating that this could b...\n",
      "509233            Professor receives Arab Researchers Award\n",
      "509234    Nigel Farage attacks response to Trump ambassa...\n",
      "509235    Palestinian wielding knife shot dead in West B...\n",
      "Name: title, Length: 509236, dtype: object\n"
     ]
    }
   ],
   "source": [
    "print(dataset['title'])"
   ]
  },
  {
   "cell_type": "code",
   "execution_count": 18,
   "metadata": {},
   "outputs": [
    {
     "name": "stdout",
     "output_type": "stream",
     "text": [
      "Requirement already satisfied: gensim in c:\\users\\sanja\\anaconda3\\lib\\site-packages (3.8.3)\n",
      "Collecting gensim\n",
      "  Downloading gensim-4.0.1-cp38-cp38-win_amd64.whl (23.9 MB)\n",
      "Collecting Cython==0.29.21\n",
      "  Downloading Cython-0.29.21-cp38-cp38-win_amd64.whl (1.7 MB)\n",
      "Requirement already satisfied: scipy>=0.18.1 in c:\\users\\sanja\\anaconda3\\lib\\site-packages (from gensim) (1.6.2)\n",
      "Requirement already satisfied: numpy>=1.11.3 in c:\\users\\sanja\\anaconda3\\lib\\site-packages (from gensim) (1.19.2)\n",
      "Requirement already satisfied: smart-open>=1.8.1 in c:\\users\\sanja\\anaconda3\\lib\\site-packages (from gensim) (4.1.0)\n",
      "Installing collected packages: Cython, gensim\n",
      "  Attempting uninstall: Cython\n",
      "    Found existing installation: Cython 0.29.22\n",
      "    Uninstalling Cython-0.29.22:\n",
      "      Successfully uninstalled Cython-0.29.22\n",
      "  Attempting uninstall: gensim\n",
      "    Found existing installation: gensim 3.8.3\n",
      "    Uninstalling gensim-3.8.3:\n",
      "      Successfully uninstalled gensim-3.8.3\n",
      "Successfully installed Cython-0.29.21 gensim-4.0.1\n",
      "Note: you may need to restart the kernel to use updated packages.\n"
     ]
    }
   ],
   "source": [
    "pip install -U gensim"
   ]
  },
  {
   "cell_type": "code",
   "execution_count": null,
   "metadata": {},
   "outputs": [],
   "source": [
    "\n"
   ]
  },
  {
   "cell_type": "code",
   "execution_count": 19,
   "metadata": {},
   "outputs": [
    {
     "name": "stderr",
     "output_type": "stream",
     "text": [
      "C:\\Users\\sanja\\Anaconda3\\lib\\site-packages\\gensim\\similarities\\__init__.py:15: UserWarning: The gensim.similarities.levenshtein submodule is disabled, because the optional Levenshtein package <https://pypi.org/project/python-Levenshtein/> is unavailable. Install Levenhstein (e.g. `pip install python-Levenshtein`) to suppress this warning.\n",
      "  warnings.warn(msg)\n"
     ]
    }
   ],
   "source": [
    "# Tokenize the documents with the help of stopwords these are words which do not tell much about the sense of the sentence so they are less important so remove them.\n",
    "from gensim.parsing.preprocessing import STOPWORDS\n",
    "from nltk.tokenize import RegexpTokenizer\n",
    "\n",
    "tokenizer = RegexpTokenizer(r'\\w+')\n",
    "for idx in range(len(docs)):\n",
    "    docs[idx] = docs[idx].lower()  # Convert to lowercase.\n",
    "    docs[idx] = tokenizer.tokenize(docs[idx])  # Split into words.\n",
    "\n",
    "# Remove stop words.\n",
    "docs = [[token for token in doc if not token in STOPWORDS] for doc in docs]\n",
    "\n",
    "# Remove numbers, but not words that contain numbers.\n",
    "docs = [[token for token in doc if not token.isnumeric()] for doc in docs]\n",
    "\n",
    "# Remove words that are only one character.\n",
    "docs = [[token for token in doc if len(token) > 1 ] for doc in docs]\n"
   ]
  },
  {
   "cell_type": "code",
   "execution_count": 20,
   "metadata": {},
   "outputs": [
    {
     "name": "stderr",
     "output_type": "stream",
     "text": [
      "[nltk_data] Downloading package wordnet to\n",
      "[nltk_data]     C:\\Users\\sanja\\AppData\\Roaming\\nltk_data...\n",
      "[nltk_data]   Package wordnet is already up-to-date!\n"
     ]
    }
   ],
   "source": [
    "import nltk\n",
    "nltk.download('wordnet') \n",
    "from nltk.stem.wordnet import WordNetLemmatizer\n",
    "from nltk.stem.snowball import SnowballStemmer"
   ]
  },
  {
   "cell_type": "code",
   "execution_count": 21,
   "metadata": {
    "scrolled": false
   },
   "outputs": [],
   "source": [
    "lemmatizer = WordNetLemmatizer()\n",
    "stemmer = SnowballStemmer(\"english\")\n",
    "\n",
    "docs = [[stemmer.stem(lemmatizer.lemmatize(token)) for token in doc] for doc in docs]"
   ]
  },
  {
   "cell_type": "code",
   "execution_count": null,
   "metadata": {},
   "outputs": [],
   "source": []
  },
  {
   "cell_type": "code",
   "execution_count": 22,
   "metadata": {},
   "outputs": [],
   "source": [
    "#running LDA with the help of bag of words\n",
    "#bag of words representation\n",
    "#Choose the number of topics using topic coherence score\n",
    "#Fit the LDA model with the chosen number of topics\n"
   ]
  },
  {
   "cell_type": "code",
   "execution_count": 23,
   "metadata": {},
   "outputs": [],
   "source": [
    "from gensim.corpora import Dictionary\n",
    "\n",
    "# Create a dictionary representation of the documents.\n",
    "dictionary = Dictionary(docs)\n",
    "\n",
    "# Bag-of-words representation of the documents.\n",
    "bow_corpus = [dictionary.doc2bow(doc) for doc in docs]"
   ]
  },
  {
   "cell_type": "code",
   "execution_count": 24,
   "metadata": {},
   "outputs": [],
   "source": [
    "# Choose the number of topics \n",
    "from gensim.models import LdaMulticore, CoherenceModel\n",
    "\n",
    "# Topics range\n",
    "min_topics = 5\n",
    "max_topics = 20\n",
    "step_size = 1\n",
    "topics_range = range(min_topics, max_topics, step_size)\n",
    "\n",
    "coherence_score = []\n",
    "model_list = []\n",
    "for k in topics_range:\n",
    "    model = LdaMulticore(bow_corpus, num_topics=k, id2word=dictionary)\n",
    "    model_list.append(model)\n",
    "    coherence_model = CoherenceModel(model=model, texts=docs, dictionary=dictionary, coherence='c_v')\n",
    "    coherence_score.append(coherence_model.get_coherence())"
   ]
  },
  {
   "cell_type": "code",
   "execution_count": 25,
   "metadata": {},
   "outputs": [
    {
     "data": {
      "image/png": "[encoded data removed]",
      "text/plain": [
       "<Figure size 432x288 with 1 Axes>"
      ]
     },
     "metadata": {},
     "output_type": "display_data"
    }
   ],
   "source": [
    "plt.plot(topics_range, coherence_score)\n",
    "plt.xlabel(\"Number of Topics\")\n",
    "plt.ylabel(\"Coherence score\")\n",
    "plt.legend((\"coherence scores\"), loc='best')\n",
    "plt.show()"
   ]
  },
  {
   "cell_type": "code",
   "execution_count": 26,
   "metadata": {},
   "outputs": [
    {
     "name": "stdout",
     "output_type": "stream",
     "text": [
      "Topic: 0 \n",
      "Words: 0.036*\"kill\" + 0.026*\"attack\" + 0.016*\"dead\" + 0.011*\"report\" + 0.010*\"peopl\" + 0.010*\"bomb\" + 0.010*\"syria\" + 0.010*\"polic\" + 0.008*\"forc\" + 0.007*\"milit\"\n",
      "\n",
      "\n",
      "Topic: 1 \n",
      "Words: 0.015*\"israel\" + 0.014*\"right\" + 0.013*\"human\" + 0.012*\"palestinian\" + 0.010*\"say\" + 0.010*\"gaza\" + 0.008*\"isra\" + 0.008*\"drone\" + 0.007*\"war\" + 0.007*\"leader\"\n",
      "\n",
      "\n",
      "Topic: 2 \n",
      "Words: 0.009*\"law\" + 0.008*\"woman\" + 0.007*\"court\" + 0.007*\"presid\" + 0.007*\"time\" + 0.006*\"abus\" + 0.006*\"pope\" + 0.006*\"say\" + 0.006*\"right\" + 0.005*\"gay\"\n",
      "\n",
      "\n",
      "Topic: 3 \n",
      "Words: 0.008*\"attack\" + 0.008*\"strike\" + 0.007*\"olymp\" + 0.006*\"kill\" + 0.005*\"china\" + 0.005*\"libya\" + 0.005*\"russian\" + 0.004*\"bangladesh\" + 0.004*\"air\" + 0.004*\"tunisia\"\n",
      "\n",
      "\n",
      "Topic: 4 \n",
      "Words: 0.027*\"minist\" + 0.012*\"prime\" + 0.009*\"presid\" + 0.008*\"court\" + 0.007*\"year\" + 0.007*\"sentenc\" + 0.007*\"charg\" + 0.006*\"leader\" + 0.006*\"said\" + 0.006*\"say\"\n",
      "\n",
      "\n",
      "Topic: 5 \n",
      "Words: 0.013*\"kill\" + 0.012*\"news\" + 0.009*\"crash\" + 0.009*\"plane\" + 0.008*\"polic\" + 0.008*\"bomb\" + 0.008*\"bbc\" + 0.007*\"world\" + 0.007*\"peopl\" + 0.006*\"report\"\n",
      "\n",
      "\n",
      "Topic: 6 \n",
      "Words: 0.020*\"world\" + 0.013*\"new\" + 0.013*\"china\" + 0.009*\"russia\" + 0.008*\"global\" + 0.007*\"countri\" + 0.006*\"warn\" + 0.006*\"bank\" + 0.006*\"east\" + 0.005*\"oil\"\n",
      "\n",
      "\n",
      "Topic: 7 \n",
      "Words: 0.017*\"say\" + 0.009*\"govern\" + 0.007*\"franc\" + 0.006*\"world\" + 0.005*\"news\" + 0.005*\"uk\" + 0.004*\"ban\" + 0.004*\"presid\" + 0.004*\"australian\" + 0.004*\"gas\"\n",
      "\n",
      "\n",
      "Topic: 8 \n",
      "Words: 0.018*\"israel\" + 0.008*\"govern\" + 0.007*\"isra\" + 0.006*\"bank\" + 0.006*\"migrant\" + 0.006*\"prison\" + 0.006*\"arrest\" + 0.005*\"african\" + 0.005*\"presid\" + 0.005*\"uk\"\n",
      "\n",
      "\n",
      "Topic: 9 \n",
      "Words: 0.031*\"korea\" + 0.030*\"north\" + 0.022*\"nuclear\" + 0.017*\"china\" + 0.017*\"south\" + 0.012*\"iran\" + 0.009*\"korean\" + 0.009*\"weapon\" + 0.008*\"say\" + 0.007*\"japan\"\n",
      "\n",
      "\n",
      "Topic: 10 \n",
      "Words: 0.014*\"protest\" + 0.010*\"russian\" + 0.009*\"new\" + 0.008*\"germani\" + 0.008*\"china\" + 0.007*\"jet\" + 0.007*\"govern\" + 0.006*\"year\" + 0.006*\"chines\" + 0.006*\"dead\"\n",
      "\n",
      "\n",
      "Topic: 11 \n",
      "Words: 0.011*\"china\" + 0.008*\"refuge\" + 0.007*\"near\" + 0.006*\"death\" + 0.005*\"year\" + 0.005*\"water\" + 0.005*\"border\" + 0.005*\"ebola\" + 0.005*\"migrant\" + 0.005*\"say\"\n",
      "\n",
      "\n",
      "Topic: 12 \n",
      "Words: 0.020*\"ukrain\" + 0.017*\"syria\" + 0.014*\"syrian\" + 0.013*\"russia\" + 0.012*\"state\" + 0.012*\"iraq\" + 0.010*\"turkey\" + 0.010*\"islam\" + 0.009*\"militari\" + 0.009*\"rebel\"\n",
      "\n",
      "\n",
      "Topic: 13 \n",
      "Words: 0.015*\"saudi\" + 0.014*\"new\" + 0.010*\"china\" + 0.009*\"arabia\" + 0.009*\"protest\" + 0.008*\"india\" + 0.008*\"egypt\" + 0.008*\"govern\" + 0.006*\"plan\" + 0.005*\"state\"\n",
      "\n",
      "\n",
      "Topic: 14 \n",
      "Words: 0.035*\"isi\" + 0.013*\"polic\" + 0.010*\"woman\" + 0.010*\"protest\" + 0.007*\"china\" + 0.007*\"militari\" + 0.007*\"year\" + 0.006*\"new\" + 0.006*\"face\" + 0.006*\"german\"\n",
      "\n",
      "\n"
     ]
    }
   ],
   "source": [
    "lda_model = model_list[np.argmax(coherence_score)]\n",
    "\n",
    "for idx, topic in lda_model.print_topics(-1):\n",
    "    print(\"Topic: {} \\nWords: {}\".format(idx, topic ))\n",
    "    print(\"\\n\")"
   ]
  },
  {
   "cell_type": "code",
   "execution_count": 27,
   "metadata": {},
   "outputs": [],
   "source": [
    "#3 Topic chain over 2016\n",
    "#Fit a LDA model for news titles of every month in 2016\n",
    "#Measure the similarity between topics using Hellinger distance\n",
    "#Find long and short term topics in 2016"
   ]
  },
  {
   "cell_type": "code",
   "execution_count": 29,
   "metadata": {},
   "outputs": [],
   "source": [
    "model_month = []\n",
    "for m in range(1,13):\n",
    "    corpus_by_month = [bow_corpus[i] for i in range(len(docs)) if dataset['year'][i]== 2016 and dataset['month'][i] == m]\n",
    "    model_by_month = LdaMulticore(corpus_by_month, num_topics=7, id2word=dictionary)\n",
    "    model_month.append(model_by_month)"
   ]
  },
  {
   "cell_type": "code",
   "execution_count": 30,
   "metadata": {},
   "outputs": [],
   "source": [
    "from gensim.matutils import hellinger\n",
    "\n",
    "thresh = 0.3\n",
    "chain = np.full((11, 7), None)\n",
    "metric = np.ones([11,7])\n",
    "for m in range(1,12):\n",
    "    for cur in range(7):\n",
    "        for pre in range(7):\n",
    "            dis = hellinger(model_month[m].get_topics()[cur], model_month[m-1].get_topics()[pre])\n",
    "            if dis < min(thresh,metric[m-1][cur]):\n",
    "                metric[m-1][cur] = dis\n",
    "                chain[m-1][cur] = pre"
   ]
  },
  {
   "cell_type": "code",
   "execution_count": 31,
   "metadata": {},
   "outputs": [
    {
     "data": {
      "text/plain": [
       "array([[2, 1, 5, 5, 5, 2, 5],\n",
       "       [3, 5, 1, 0, 5, 6, 5],\n",
       "       [6, 4, 6, 4, 2, 5, 6],\n",
       "       [2, 5, 0, 4, 2, 2, 0],\n",
       "       [1, 0, 0, 1, 3, 2, 0],\n",
       "       [1, 1, 2, 4, 4, 6, 1],\n",
       "       [1, 1, 1, 3, 1, 1, 1],\n",
       "       [3, 3, 0, 0, 3, 0, 3],\n",
       "       [6, 6, 4, 2, 0, 4, 4],\n",
       "       [1, 2, 5, 2, 5, 5, 2],\n",
       "       [None, None, None, None, None, None, None]], dtype=object)"
      ]
     },
     "execution_count": 31,
     "metadata": {},
     "output_type": "execute_result"
    }
   ],
   "source": [
    "chain"
   ]
  },
  {
   "cell_type": "code",
   "execution_count": 32,
   "metadata": {},
   "outputs": [
    {
     "name": "stdout",
     "output_type": "stream",
     "text": [
      "Long term topic:\n",
      "(2, '0.003*\"syria\" + 0.003*\"kill\" + 0.003*\"saudi\" + 0.003*\"world\" + 0.003*\"forc\" + 0.002*\"deal\" + 0.002*\"korea\" + 0.002*\"launch\" + 0.002*\"train\" + 0.002*\"new\"')\n",
      "(3, '0.004*\"attack\" + 0.003*\"korea\" + 0.003*\"turkey\" + 0.003*\"kill\" + 0.003*\"pakistan\" + 0.003*\"missil\" + 0.002*\"nuclear\" + 0.002*\"test\" + 0.002*\"north\" + 0.002*\"world\"')\n",
      "(2, '0.005*\"china\" + 0.003*\"say\" + 0.003*\"korea\" + 0.003*\"north\" + 0.003*\"attack\" + 0.002*\"south\" + 0.002*\"minist\" + 0.002*\"brussel\" + 0.002*\"india\" + 0.002*\"world\"')\n",
      "(1, '0.004*\"new\" + 0.004*\"attack\" + 0.003*\"world\" + 0.003*\"death\" + 0.003*\"kill\" + 0.002*\"govern\" + 0.002*\"protest\" + 0.002*\"state\" + 0.002*\"say\" + 0.002*\"minist\"')\n",
      "\n",
      "\n",
      "Major events in a short time:\n",
      "(5, '0.005*\"russia\" + 0.003*\"uk\" + 0.003*\"china\" + 0.003*\"ban\" + 0.003*\"isi\" + 0.002*\"attack\" + 0.002*\"protest\" + 0.002*\"kill\" + 0.002*\"child\" + 0.002*\"forc\"')\n"
     ]
    }
   ],
   "source": [
    "\n",
    "print('Long term topic:')\n",
    "print(model_month[1].print_topics()[2])\n",
    "print(model_month[2].print_topics()[3])\n",
    "print(model_month[3].print_topics()[2])\n",
    "print(model_month[4].print_topics()[1])\n",
    "\n",
    "print(\"\\n\")\n",
    "print('Major events in a short time:')\n",
    "print(model_month[9].print_topics()[5])"
   ]
  },
  {
   "cell_type": "code",
   "execution_count": null,
   "metadata": {},
   "outputs": [],
   "source": []
  }
 ],
 "metadata": {
  "kernelspec": {
   "display_name": "Python 3",
   "language": "python",
   "name": "python3"
  },
  "language_info": {
   "codemirror_mode": {
    "name": "ipython",
    "version": 3
   },
   "file_extension": ".py",
   "mimetype": "text/x-python",
   "name": "python",
   "nbconvert_exporter": "python",
   "pygments_lexer": "ipython3",
   "version": "3.8.5"
  }
 },
 "nbformat": 4,
 "nbformat_minor": 4
}
